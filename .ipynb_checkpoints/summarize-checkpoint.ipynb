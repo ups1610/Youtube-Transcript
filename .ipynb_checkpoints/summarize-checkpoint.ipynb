{
 "cells": [
  {
   "cell_type": "code",
   "execution_count": 1,
   "id": "056b7aeb",
   "metadata": {},
   "outputs": [
    {
     "name": "stdout",
     "output_type": "stream",
     "text": [
      "Please Enter the link to the YouTube Video\n",
      "https://www.youtube.com/watch?v=rHvCQEr_ETk\n"
     ]
    },
    {
     "name": "stderr",
     "output_type": "stream",
     "text": [
      "No model was supplied, defaulted to sshleifer/distilbart-cnn-12-6 and revision a4f8f3e (https://huggingface.co/sshleifer/distilbart-cnn-12-6).\n",
      "Using a pipeline without specifying a model name and revision in production is not recommended.\n"
     ]
    },
    {
     "name": "stdout",
     "output_type": "stream",
     "text": [
      "476\n"
     ]
    },
    {
     "name": "stderr",
     "output_type": "stream",
     "text": [
      "Your max_length is set to 57, but you input_length is only 28. You might consider decreasing max_length manually, e.g. summarizer('...', max_length=14)\n"
     ]
    },
    {
     "name": "stdout",
     "output_type": "stream",
     "text": [
      "[\" The power of the dragon scroll is . . Mine! It's nothing! I didn't get it the first time either . There is no secret ingredient. It's just you . I'm gonna pee! Don't! Don’t! You’re just\", \" Luffing! Shifu didn't teach you that! Nope . I figured it out. Skadoosh! I figured out. luffing. luffsing! I'm not sure what I'm doing . I'm going to do it. I'm\"]\n"
     ]
    }
   ],
   "source": [
    "from cgitb import text\n",
    "from traceback import print_tb\n",
    "from transformers import pipeline\n",
    "from youtube_transcript_api import YouTubeTranscriptApi\n",
    "\n",
    "print('Please Enter the link to the YouTube Video')\n",
    "link = input()\n",
    "video_id = link.split(\"=\")[1]\n",
    "transcript = YouTubeTranscriptApi.get_transcript(video_id)\n",
    "\n",
    "full_transcript = \"\"\n",
    "for x in transcript:\n",
    "    full_transcript += \" \" + x['text']\n",
    "\n",
    "print(len(full_transcript))\n",
    "\n",
    "summerizar = pipeline(\"summarization\")\n",
    "\n",
    "itr = int(len(full_transcript)/400)\n",
    "summary_text = []\n",
    "for i in range(0, itr+1):\n",
    "    start = 0\n",
    "    start = i*400\n",
    "    end = (i+1)*400\n",
    "    out = summerizar(full_transcript[start:end], max_length=57)\n",
    "    out = out[0]\n",
    "    out = out[\"summary_text\"]\n",
    "    summary_text.append(out)\n",
    "\n",
    "print(summary_text)"
   ]
  },
  {
   "cell_type": "code",
   "execution_count": 102,
   "id": "813dcd94",
   "metadata": {},
   "outputs": [
    {
     "name": "stderr",
     "output_type": "stream",
     "text": [
      "Exception in Tkinter callback\n",
      "Traceback (most recent call last):\n",
      "  File \"C:\\Users\\hp\\anaconda3\\lib\\tkinter\\__init__.py\", line 1892, in __call__\n",
      "    return self.func(*args)\n",
      "TypeError: iExit() missing 1 required positional argument: 'self'\n",
      "Exception in Tkinter callback\n",
      "Traceback (most recent call last):\n",
      "  File \"C:\\Users\\hp\\anaconda3\\lib\\tkinter\\__init__.py\", line 1892, in __call__\n",
      "    return self.func(*args)\n",
      "TypeError: iExit() missing 1 required positional argument: 'self'\n",
      "Exception in Tkinter callback\n",
      "Traceback (most recent call last):\n",
      "  File \"C:\\Users\\hp\\anaconda3\\lib\\tkinter\\__init__.py\", line 1892, in __call__\n",
      "    return self.func(*args)\n",
      "TypeError: iExit() missing 1 required positional argument: 'self'\n",
      "Exception in Tkinter callback\n",
      "Traceback (most recent call last):\n",
      "  File \"C:\\Users\\hp\\anaconda3\\lib\\tkinter\\__init__.py\", line 1892, in __call__\n",
      "    return self.func(*args)\n",
      "TypeError: iExit() missing 1 required positional argument: 'self'\n"
     ]
    }
   ],
   "source": [
    "      "
   ]
  },
  {
   "cell_type": "code",
   "execution_count": null,
   "id": "2acfb086",
   "metadata": {},
   "outputs": [
    {
     "name": "stdout",
     "output_type": "stream",
     "text": [
      "link is: \n"
     ]
    }
   ],
   "source": [
    "from curses.textpad import Textbox\n",
    "import string\n",
    "from time import strftime, time\n",
    "from tkinter import*\n",
    "from tkinter import ttk\n",
    "import tkinter\n",
    "from PIL import Image,ImageTk,ImageDraw\n",
    "from tkinter import messagebox\n",
    "from datetime import datetime\n",
    "from time import strftime\n",
    "from pytz import timezone\n",
    "root=tkinter.Tk()\n",
    "root.grid_rowconfigure(0, weight=1)\n",
    "root.grid_columnconfigure(0, weight=1)\n",
    "root.geometry(\"1550x800+0+0\")\n",
    "root['bg']='black'\n",
    "root.title(\"Youtube-Transcript Summarizer\")\n",
    "\n",
    "#========================================= time ==========================================================#\n",
    "def current_time():\n",
    "    now_utc = datetime.now(timezone('UTC'))\n",
    "    now_asia = now_utc.astimezone(timezone('Asia/Kolkata'))\n",
    "    string=now_asia.strftime('%H:%M:%S %p')\n",
    "    lbl.config(text=string)\n",
    "    lbl.after(1000,current_time)\n",
    "\n",
    "lbl=Label(root,font=(SUNKEN,15,'bold'),fg='white',bg='black',border=0,borderwidth=0)\n",
    "lbl.place(x=1,y=5)\n",
    "current_time()\n",
    "        \n",
    "#======================================= Heading ========================================================#\n",
    "img1=Image.open(r\"image_resource\\you_img.jpg\")\n",
    "img1=img1.resize((130,120),Image.ANTIALIAS)\n",
    "img1=ImageTk.PhotoImage(img1)\n",
    "\n",
    "hd_img1=Label(root,image=img1,bg='black')\n",
    "hd_img1.place(x=1040,y=3.5)\n",
    "hd_text=Label(root,text=\"Youtube Transcript Summarizer\",font=(SUNKEN,30,'bold'),fg='white',bg='black',border=0,borderwidth=0)\n",
    "hd_text.place(x=450,y=30)\n",
    "\n",
    "#======================================== Exit Button ===================================================#\n",
    "def exit_fun():\n",
    "    root.destroy()\n",
    "def iExit():\n",
    "    iExit_t=messagebox.askyesno(\"Exit\",\"Do you want to exit\")\n",
    "    if iExit_t>0:\n",
    "        root.destroy()\n",
    "    else:\n",
    "        return    \n",
    "exit_btn=Button(root,text='Quit',bg='red',command=iExit,font=('Arial',13,'bold'),fg='white',activebackground='red',activeforeground='white',border=0,borderwidth=3,cursor='hand2',relief=RIDGE)\n",
    "exit_btn.place(x=1400,y=10,width=100,height=25)\n",
    "\n",
    "\n",
    "#====================================== get-started & stop ==============================================#\n",
    "link=StringVar()\n",
    "def getlink():\n",
    "    def var_text():\n",
    "        name=link.get()\n",
    "        print(\"link is: \"+name)\n",
    "        link.set(\"\")\n",
    "    link_lbl=Label(root,text=\"Enter URL\",bg='black',fg='light blue',font=('SUNKEN',13,'bold'))\n",
    "    link_lbl.place(x=100,y=250)\n",
    "    link_data=ttk.Entry(root,width=20,textvariable=var_text,font=('SUNKEN',13,'normal'))\n",
    "    link_data.place(x=200,y=250)\n",
    "    sub_btn=tk.Button(root,text = 'Submit', command = var_text,bg='white',fg='black',border=1,borderwidth=1)\n",
    "    sub_btn.place(x=400,y=250)\n",
    "start_img=Image.open(r\"image_resource\\button_activate.png\")\n",
    "start_img=start_img.resize((204,55),Image.ANTIALIAS)\n",
    "start_img=ImageTk.PhotoImage(start_img)\n",
    "start=Button(root,command=getlink,image=start_img,bg='black',fg='red',cursor='hand2',border=0,borderwidth=0,activebackground='black')\n",
    "start.place(x=670,y=200,width=207,height=57)\n",
    "\n",
    "stop_img=Image.open(r\"image_resource\\button_stop (3).png\")\n",
    "stop_img=stop_img.resize((140,34),Image.ANTIALIAS)\n",
    "stop_img=ImageTk.PhotoImage(stop_img)\n",
    "stop=Button(root,image=stop_img,bg='black',fg='red',cursor='hand2',border=0,borderwidth=0,activebackground='black')\n",
    "stop.place(x=710,y=700,width=150,height=37)\n",
    "#========================================= text-area =====================================================#\n",
    "txtarea = Text(root,bg='lavender',font=(\"TimesNewRoman\",11),width=90, height=20,borderwidth=4,relief='solid',padx=10,pady=10,spacing2=5)\n",
    "txtarea.pack(pady=100)\n",
    "txtarea.place(x=400,y=300)\n",
    "#======================================= Get Link ======================================================#\n",
    "\n",
    "    \n",
    "#======================================= Language-button ===============================================#\n",
    "btn_eng=Image.open(r\"image_resource\\button_english.png\")\n",
    "btn_eng=btn_eng.resize((132,34),Image.ANTIALIAS)\n",
    "btn_eng=ImageTk.PhotoImage(btn_eng)\n",
    "eng=Button(root,image=btn_eng,bg='black',fg='red',cursor='hand2',border=0,borderwidth=0,activebackground='black')\n",
    "eng.place(x=200,y=320,width=135,height=37)\n",
    "\n",
    "btn_hindi=Image.open(r\"image_resource\\button_hindi.png\")\n",
    "btn_hindi=btn_hindi.resize((132,34),Image.ANTIALIAS)\n",
    "btn_hindi=ImageTk.PhotoImage(btn_hindi)\n",
    "hindi=Button(root,image=btn_hindi,bg='black',fg='red',cursor='hand2',border=0,borderwidth=0,activebackground='black')\n",
    "hindi.place(x=200,y=420,width=135,height=37)\n",
    "\n",
    "btn_german=Image.open(r\"image_resource\\button_german.png\")\n",
    "btn_german=btn_german.resize((132,34),Image.ANTIALIAS)\n",
    "btn_german=ImageTk.PhotoImage(btn_german)\n",
    "german=Button(root,image=btn_german,bg='black',fg='red',cursor='hand2',border=0,borderwidth=0,activebackground='black')\n",
    "german.place(x=200,y=520,width=135,height=37)\n",
    "\n",
    "btn_french=Image.open(r\"image_resource\\button_french.png\")\n",
    "btn_french=btn_french.resize((132,34),Image.ANTIALIAS)\n",
    "btn_french=ImageTk.PhotoImage(btn_french)\n",
    "french=Button(root,image=btn_french,bg='black',fg='red',cursor='hand2',border=0,borderwidth=0,activebackground='black')\n",
    "french.place(x=200,y=620,width=135,height=37)\n",
    "\n",
    "btn_bengali=Image.open(r\"image_resource\\button_bengali.png\")\n",
    "btn_bengali=btn_bengali.resize((132,34),Image.ANTIALIAS)\n",
    "btn_bengali=ImageTk.PhotoImage(btn_bengali)\n",
    "bengali=Button(root,image=btn_bengali,bg='black',fg='red',cursor='hand2',border=0,borderwidth=0,activebackground='black')\n",
    "bengali.place(x=1210,y=320,width=135,height=37)\n",
    "\n",
    "btn_punjabi=Image.open(r\"image_resource\\button_punjabi.png\")\n",
    "btn_punjabi=btn_punjabi.resize((132,34),Image.ANTIALIAS)\n",
    "btn_punjabi=ImageTk.PhotoImage(btn_punjabi)\n",
    "punjabi=Button(root,image=btn_punjabi,bg='black',fg='red',cursor='hand2',border=0,borderwidth=0,activebackground='black')\n",
    "punjabi.place(x=1210,y=420,width=135,height=37)\n",
    "\n",
    "btn_tamil=Image.open(r\"image_resource\\button_tamil.png\")\n",
    "btn_tamil=btn_tamil.resize((132,34),Image.ANTIALIAS)\n",
    "btn_tamil=ImageTk.PhotoImage(btn_tamil)\n",
    "tamil=Button(root,image=btn_tamil,bg='black',fg='red',cursor='hand2',border=0,borderwidth=0,activebackground='black')\n",
    "tamil.place(x=1210,y=520,width=135,height=37)\n",
    "\n",
    "btn_telugu=Image.open(r\"image_resource\\button_telugu.png\")\n",
    "btn_telugu=btn_telugu.resize((132,34),Image.ANTIALIAS)\n",
    "btn_telugu=ImageTk.PhotoImage(btn_telugu)\n",
    "telugu=Button(root,image=btn_telugu,bg='black',fg='red',cursor='hand2',border=0,borderwidth=0,activebackground='black')\n",
    "telugu.place(x=1210,y=620,width=135,height=37)\n",
    "\n",
    "\n",
    "root.mainloop()  "
   ]
  },
  {
   "cell_type": "code",
   "execution_count": 183,
   "id": "152dfb0b",
   "metadata": {},
   "outputs": [
    {
     "ename": "FileNotFoundError",
     "evalue": "[Errno 2] No such file or directory: '200-6.gif'",
     "output_type": "error",
     "traceback": [
      "\u001b[1;31m---------------------------------------------------------------------------\u001b[0m",
      "\u001b[1;31mFileNotFoundError\u001b[0m                         Traceback (most recent call last)",
      "\u001b[1;32m<ipython-input-183-ce90aadbedcb>\u001b[0m in \u001b[0;36m<module>\u001b[1;34m\u001b[0m\n\u001b[0;32m     42\u001b[0m \u001b[0mlbl\u001b[0m \u001b[1;33m=\u001b[0m \u001b[0mImageLabel\u001b[0m\u001b[1;33m(\u001b[0m\u001b[0mroot\u001b[0m\u001b[1;33m)\u001b[0m\u001b[1;33m\u001b[0m\u001b[1;33m\u001b[0m\u001b[0m\n\u001b[0;32m     43\u001b[0m \u001b[0mlbl\u001b[0m\u001b[1;33m.\u001b[0m\u001b[0mpack\u001b[0m\u001b[1;33m(\u001b[0m\u001b[1;33m)\u001b[0m\u001b[1;33m\u001b[0m\u001b[1;33m\u001b[0m\u001b[0m\n\u001b[1;32m---> 44\u001b[1;33m \u001b[0mlbl\u001b[0m\u001b[1;33m.\u001b[0m\u001b[0mload\u001b[0m\u001b[1;33m(\u001b[0m\u001b[1;34m'200-6.gif'\u001b[0m\u001b[1;33m)\u001b[0m\u001b[1;33m\u001b[0m\u001b[1;33m\u001b[0m\u001b[0m\n\u001b[0m\u001b[0;32m     45\u001b[0m \u001b[0mroot\u001b[0m\u001b[1;33m.\u001b[0m\u001b[0mmainloop\u001b[0m\u001b[1;33m(\u001b[0m\u001b[1;33m)\u001b[0m\u001b[1;33m\u001b[0m\u001b[1;33m\u001b[0m\u001b[0m\n",
      "\u001b[1;32m<ipython-input-183-ce90aadbedcb>\u001b[0m in \u001b[0;36mload\u001b[1;34m(self, im)\u001b[0m\n\u001b[0;32m     10\u001b[0m     \u001b[1;32mdef\u001b[0m \u001b[0mload\u001b[0m\u001b[1;33m(\u001b[0m\u001b[0mself\u001b[0m\u001b[1;33m,\u001b[0m \u001b[0mim\u001b[0m\u001b[1;33m)\u001b[0m\u001b[1;33m:\u001b[0m\u001b[1;33m\u001b[0m\u001b[1;33m\u001b[0m\u001b[0m\n\u001b[0;32m     11\u001b[0m         \u001b[1;32mif\u001b[0m \u001b[0misinstance\u001b[0m\u001b[1;33m(\u001b[0m\u001b[0mim\u001b[0m\u001b[1;33m,\u001b[0m \u001b[0mstr\u001b[0m\u001b[1;33m)\u001b[0m\u001b[1;33m:\u001b[0m\u001b[1;33m\u001b[0m\u001b[1;33m\u001b[0m\u001b[0m\n\u001b[1;32m---> 12\u001b[1;33m             \u001b[0mim\u001b[0m \u001b[1;33m=\u001b[0m \u001b[0mImage\u001b[0m\u001b[1;33m.\u001b[0m\u001b[0mopen\u001b[0m\u001b[1;33m(\u001b[0m\u001b[0mim\u001b[0m\u001b[1;33m)\u001b[0m\u001b[1;33m\u001b[0m\u001b[1;33m\u001b[0m\u001b[0m\n\u001b[0m\u001b[0;32m     13\u001b[0m         \u001b[0mframes\u001b[0m \u001b[1;33m=\u001b[0m \u001b[1;33m[\u001b[0m\u001b[1;33m]\u001b[0m\u001b[1;33m\u001b[0m\u001b[1;33m\u001b[0m\u001b[0m\n\u001b[0;32m     14\u001b[0m         \u001b[1;32mtry\u001b[0m\u001b[1;33m:\u001b[0m\u001b[1;33m\u001b[0m\u001b[1;33m\u001b[0m\u001b[0m\n",
      "\u001b[1;32m~\\anaconda3\\lib\\site-packages\\PIL\\Image.py\u001b[0m in \u001b[0;36mopen\u001b[1;34m(fp, mode, formats)\u001b[0m\n\u001b[0;32m   2910\u001b[0m \u001b[1;33m\u001b[0m\u001b[0m\n\u001b[0;32m   2911\u001b[0m     \u001b[1;32mif\u001b[0m \u001b[0mfilename\u001b[0m\u001b[1;33m:\u001b[0m\u001b[1;33m\u001b[0m\u001b[1;33m\u001b[0m\u001b[0m\n\u001b[1;32m-> 2912\u001b[1;33m         \u001b[0mfp\u001b[0m \u001b[1;33m=\u001b[0m \u001b[0mbuiltins\u001b[0m\u001b[1;33m.\u001b[0m\u001b[0mopen\u001b[0m\u001b[1;33m(\u001b[0m\u001b[0mfilename\u001b[0m\u001b[1;33m,\u001b[0m \u001b[1;34m\"rb\"\u001b[0m\u001b[1;33m)\u001b[0m\u001b[1;33m\u001b[0m\u001b[1;33m\u001b[0m\u001b[0m\n\u001b[0m\u001b[0;32m   2913\u001b[0m         \u001b[0mexclusive_fp\u001b[0m \u001b[1;33m=\u001b[0m \u001b[1;32mTrue\u001b[0m\u001b[1;33m\u001b[0m\u001b[1;33m\u001b[0m\u001b[0m\n\u001b[0;32m   2914\u001b[0m \u001b[1;33m\u001b[0m\u001b[0m\n",
      "\u001b[1;31mFileNotFoundError\u001b[0m: [Errno 2] No such file or directory: '200-6.gif'"
     ]
    }
   ],
   "source": [
    "import tkinter as tk\n",
    "from PIL import Image, ImageTk\n",
    "from itertools import count, cycle\n",
    " \n",
    "class ImageLabel(tk.Label):\n",
    "    \"\"\"\n",
    "    A Label that displays images, and plays them if they are gifs\n",
    "    :im: A PIL Image instance or a string filename\n",
    "    \"\"\"\n",
    "    def load(self, im):\n",
    "        if isinstance(im, str):\n",
    "            im = Image.open(im)\n",
    "        frames = []\n",
    "        try:\n",
    "            for i in count(1):\n",
    "                frames.append(ImageTk.PhotoImage(im.copy()))\n",
    "                im.seek(i)\n",
    "        except EOFError:\n",
    "            pass\n",
    "        self.frames = cycle(frames)\n",
    " \n",
    "        try:\n",
    "            self.delay = im.info['duration']\n",
    "        except:\n",
    "            self.delay = 100\n",
    " \n",
    "        if len(frames) == 1:\n",
    "            self.config(image=next(self.frames))\n",
    "        else:\n",
    "            self.next_frame()\n",
    " \n",
    "    def unload(self):\n",
    "        self.config(image=None)\n",
    "        self.frames = None\n",
    " \n",
    "    def next_frame(self):\n",
    "        if self.frames:\n",
    "            self.config(image=next(self.frames))\n",
    "            self.after(self.delay, self.next_frame)\n",
    " \n",
    "root = tk.Tk()\n",
    "lbl = ImageLabel(root)\n",
    "lbl.pack()\n",
    "lbl.load('200-6.gif')\n",
    "root.mainloop()"
   ]
  },
  {
   "cell_type": "code",
   "execution_count": null,
   "id": "3a3aa8ef",
   "metadata": {},
   "outputs": [],
   "source": [
    "#importing library\n",
    "from tkinter import *\n",
    "#creating window\n",
    "window = Tk()\n",
    "#Title\n",
    "window.title('Grand Canyon')\n",
    "#display attributes\n",
    "canvas = Canvas(window, width = 500, height = 500)\n",
    "canvas.pack()\n",
    "#GIF in my_image variable\n",
    "#Give the entire file address along with the file name and gif extension\n",
    "#Use \\\\ in the address\n",
    "#The image given by me is C:\\\\UserAdmin\\\\Device\\\\Desktop2\\\\canyon.gif\n",
    "my_image = PhotoImage(file='image_resource\\\\200-6.gif')\n",
    "canvas.create_image(0, 0, anchor = NW, image-my_image)"
   ]
  },
  {
   "cell_type": "code",
   "execution_count": 220,
   "id": "97876e93",
   "metadata": {},
   "outputs": [
    {
     "data": {
      "text/plain": [
       "'https://www.youtube.com/watch?v=rHvCQEr_ETk'"
      ]
     },
     "execution_count": 220,
     "metadata": {},
     "output_type": "execute_result"
    }
   ],
   "source": [
    "link"
   ]
  },
  {
   "cell_type": "code",
   "execution_count": null,
   "id": "bf1d3d1f",
   "metadata": {},
   "outputs": [],
   "source": []
  }
 ],
 "metadata": {
  "kernelspec": {
   "display_name": "Python 3",
   "language": "python",
   "name": "python3"
  },
  "language_info": {
   "codemirror_mode": {
    "name": "ipython",
    "version": 3
   },
   "file_extension": ".py",
   "mimetype": "text/x-python",
   "name": "python",
   "nbconvert_exporter": "python",
   "pygments_lexer": "ipython3",
   "version": "3.8.8"
  }
 },
 "nbformat": 4,
 "nbformat_minor": 5
}
